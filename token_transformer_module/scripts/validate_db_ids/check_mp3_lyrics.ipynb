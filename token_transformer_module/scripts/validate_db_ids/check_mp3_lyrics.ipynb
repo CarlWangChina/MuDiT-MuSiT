{
 "cells": [
  {
   "cell_type": "code",
   "execution_count": 2,
   "id": "initial_id",
   "metadata": {
    "collapsed": true,
    "ExecuteTime": {
     "end_time": "2024-02-04T09:10:25.435883200Z",
     "start_time": "2024-02-04T09:10:25.430796800Z"
    }
   },
   "outputs": [],
   "source": [
    "import csv\n",
    "import json\n",
    "from pathlib import Path"
   ]
  },
  {
   "cell_type": "code",
   "outputs": [],
   "source": [
    "CONTROL_FILES_DIR = Path('../scripts/extract_mert_features/data_control_files')\n",
    "assert CONTROL_FILES_DIR.is_dir()"
   ],
   "metadata": {
    "collapsed": false,
    "ExecuteTime": {
     "end_time": "2024-02-04T09:11:18.668603800Z",
     "start_time": "2024-02-04T09:11:18.657816200Z"
    }
   },
   "id": "3c2b4e88e29f06ca",
   "execution_count": 3
  },
  {
   "cell_type": "code",
   "outputs": [],
   "source": [
    "ALI_CONTROL_FILES = [\n",
    "    CONTROL_FILES_DIR / 'music-type-checked.txt',\n",
    "    CONTROL_FILES_DIR / 'music-type-checked-1087.txt'\n",
    "]\n",
    "\n",
    "DY_QQ_CONTROL_FILES = [\n",
    "    CONTROL_FILES_DIR / 'music-type-checked-dyqy.txt'\n",
    "]\n",
    "\n",
    "CB_CONTROL_FILES = [\n",
    "    CONTROL_FILES_DIR / 'music-type-checked-cb-unique.txt'\n",
    "]"
   ],
   "metadata": {
    "collapsed": false,
    "ExecuteTime": {
     "end_time": "2024-02-04T11:42:47.436431Z",
     "start_time": "2024-02-04T11:42:47.418901900Z"
    }
   },
   "id": "2f9b9334a36befc",
   "execution_count": 46
  },
  {
   "cell_type": "code",
   "outputs": [],
   "source": [
    "MP3_ID_MAP_FILE = Path('F:\\\\DataSets\\\\Lyrics\\\\mp3_id_map.csv')\n",
    "LYRICS_ID_FILE = Path('F:\\\\DataSets\\\\Lyrics\\\\cdfx_trng_lrc.csv')\n",
    "DY_QQ_ID_FILE = Path('F:\\\\DataSets\\\\Lyrics\\\\dy_qq_all_ids.csv')\n",
    "CB_ID_FILE = Path('F:\\\\DataSets\\\\Lyrics\\\\cb_ids.csv')"
   ],
   "metadata": {
    "collapsed": false,
    "ExecuteTime": {
     "end_time": "2024-02-04T11:42:23.488638500Z",
     "start_time": "2024-02-04T11:42:23.472633100Z"
    }
   },
   "id": "70fef850d3e72a91",
   "execution_count": 45
  },
  {
   "cell_type": "code",
   "outputs": [],
   "source": [
    "mp3_id_map = {}\n",
    "with open(MP3_ID_MAP_FILE, 'r', encoding='utf-8') as f:\n",
    "    reader = csv.reader(f)\n",
    "    for row in reader:\n",
    "        mp3_id_map[row[0]] = int(row[1])\n"
   ],
   "metadata": {
    "collapsed": false,
    "ExecuteTime": {
     "end_time": "2024-02-04T09:15:38.096850200Z",
     "start_time": "2024-02-04T09:15:37.379406500Z"
    }
   },
   "id": "e75f7766b3646435",
   "execution_count": 10
  },
  {
   "cell_type": "code",
   "outputs": [],
   "source": [
    "lyrics_id_set = set()\n",
    "with open(LYRICS_ID_FILE, 'r', encoding='utf-8') as f:\n",
    "    reader = csv.reader(f)\n",
    "    for row in reader:\n",
    "        lyrics_id_set.add(int(row[0]))"
   ],
   "metadata": {
    "collapsed": false,
    "ExecuteTime": {
     "end_time": "2024-02-04T09:15:38.843559500Z",
     "start_time": "2024-02-04T09:15:38.772911900Z"
    }
   },
   "id": "d16619b9306baeb8",
   "execution_count": 11
  },
  {
   "cell_type": "code",
   "outputs": [],
   "source": [
    "dy_qq_id_set = set()\n",
    "with open(DY_QQ_ID_FILE, 'r', encoding='utf-8') as f:\n",
    "    reader = csv.reader(f)\n",
    "    for row in reader:\n",
    "        dy_qq_id_set.add(row[0])"
   ],
   "metadata": {
    "collapsed": false,
    "ExecuteTime": {
     "end_time": "2024-02-04T11:33:31.278965100Z",
     "start_time": "2024-02-04T11:33:31.266318900Z"
    }
   },
   "id": "6a2e9f378bfae129",
   "execution_count": 40
  },
  {
   "cell_type": "code",
   "outputs": [],
   "source": [
    "cb_id_set = set()\n",
    "with open(CB_ID_FILE, 'r', encoding='utf-8') as f:\n",
    "    reader = csv.reader(f)\n",
    "    for row in reader:\n",
    "        cb_id_set.add(row[0])"
   ],
   "metadata": {
    "collapsed": false,
    "ExecuteTime": {
     "end_time": "2024-02-04T11:43:22.530723Z",
     "start_time": "2024-02-04T11:43:22.467791200Z"
    }
   },
   "id": "a0a59293acfff20b",
   "execution_count": 47
  },
  {
   "cell_type": "code",
   "outputs": [],
   "source": [
    "in_list = []\n",
    "out_list = []\n",
    "for control_file in ALI_CONTROL_FILES:\n",
    "    with open(control_file, 'r', encoding='utf-8') as f:\n",
    "        for line in f:\n",
    "            json_data = json.loads(line)\n",
    "            mp3_id = Path(json_data['path']).stem\n",
    "            assert mp3_id in mp3_id_map\n",
    "            lyrics_id = mp3_id_map[mp3_id]\n",
    "            if lyrics_id in lyrics_id_set:\n",
    "                in_list.append(mp3_id)\n",
    "            else:\n",
    "                out_list.append(mp3_id)"
   ],
   "metadata": {
    "collapsed": false,
    "ExecuteTime": {
     "end_time": "2024-02-04T09:27:01.561362200Z",
     "start_time": "2024-02-04T09:27:00.720103900Z"
    }
   },
   "id": "6f606f1919efbe5e",
   "execution_count": 30
  },
  {
   "cell_type": "code",
   "outputs": [
    {
     "data": {
      "text/plain": "29577"
     },
     "execution_count": 31,
     "metadata": {},
     "output_type": "execute_result"
    }
   ],
   "source": [
    "len(in_list)"
   ],
   "metadata": {
    "collapsed": false,
    "ExecuteTime": {
     "end_time": "2024-02-04T09:27:06.976424600Z",
     "start_time": "2024-02-04T09:27:06.966388Z"
    }
   },
   "id": "65ed83f94abecaa7",
   "execution_count": 31
  },
  {
   "cell_type": "code",
   "outputs": [
    {
     "data": {
      "text/plain": "12929"
     },
     "execution_count": 32,
     "metadata": {},
     "output_type": "execute_result"
    }
   ],
   "source": [
    "len(out_list)"
   ],
   "metadata": {
    "collapsed": false,
    "ExecuteTime": {
     "end_time": "2024-02-04T09:27:09.733377100Z",
     "start_time": "2024-02-04T09:27:09.723183900Z"
    }
   },
   "id": "34af1f2ed881fb9f",
   "execution_count": 32
  },
  {
   "cell_type": "code",
   "outputs": [],
   "source": [
    "with open('ali_mp3_in_list.txt', 'w') as f:\n",
    "    for mp3_id in in_list:\n",
    "        print(mp3_id, file=f)\n",
    "        \n",
    "with open('ali_mp3_out_list.txt', 'w') as f:\n",
    "    for mp3_id in out_list:\n",
    "        print(mp3_id, file=f)\n"
   ],
   "metadata": {
    "collapsed": false,
    "ExecuteTime": {
     "end_time": "2024-02-04T09:28:19.986628500Z",
     "start_time": "2024-02-04T09:28:19.923067300Z"
    }
   },
   "id": "aedd588ae922f6db",
   "execution_count": 33
  },
  {
   "cell_type": "code",
   "outputs": [
    {
     "data": {
      "text/plain": "42506"
     },
     "execution_count": 34,
     "metadata": {},
     "output_type": "execute_result"
    }
   ],
   "source": [
    "len(in_list) + len(out_list)"
   ],
   "metadata": {
    "collapsed": false,
    "ExecuteTime": {
     "end_time": "2024-02-04T09:28:50.295322200Z",
     "start_time": "2024-02-04T09:28:50.283018100Z"
    }
   },
   "id": "7bb70f3fb8a4851d",
   "execution_count": 34
  },
  {
   "cell_type": "code",
   "outputs": [],
   "source": [
    "for control_file in DY_QQ_CONTROL_FILES:\n",
    "    with open(control_file, 'r', encoding='utf-8') as f:\n",
    "        for line in f:\n",
    "            json_data = json.loads(line)\n",
    "            mp3_id = Path(json_data['path']).stem\n",
    "            assert mp3_id in dy_qq_id_set"
   ],
   "metadata": {
    "collapsed": false,
    "ExecuteTime": {
     "end_time": "2024-02-04T11:35:02.757797400Z",
     "start_time": "2024-02-04T11:35:02.706235800Z"
    }
   },
   "id": "7d73025ee7762893",
   "execution_count": 44
  },
  {
   "cell_type": "code",
   "outputs": [],
   "source": [
    "for control_file in CB_CONTROL_FILES:\n",
    "    with open(control_file, 'r', encoding='utf-8') as f:\n",
    "        for line in f:\n",
    "            json_data = json.loads(line)\n",
    "            mp3_id = Path(json_data['path']).stem\n",
    "            assert mp3_id in cb_id_set"
   ],
   "metadata": {
    "collapsed": false,
    "ExecuteTime": {
     "end_time": "2024-02-04T11:43:43.238902300Z",
     "start_time": "2024-02-04T11:43:42.966309500Z"
    }
   },
   "id": "76724ee29fc62a19",
   "execution_count": 48
  },
  {
   "cell_type": "code",
   "outputs": [],
   "source": [],
   "metadata": {
    "collapsed": false
   },
   "id": "88dab4d6ea041de8"
  }
 ],
 "metadata": {
  "kernelspec": {
   "display_name": "Python 3",
   "language": "python",
   "name": "python3"
  },
  "language_info": {
   "codemirror_mode": {
    "name": "ipython",
    "version": 2
   },
   "file_extension": ".py",
   "mimetype": "text/x-python",
   "name": "python",
   "nbconvert_exporter": "python",
   "pygments_lexer": "ipython2",
   "version": "2.7.6"
  }
 },
 "nbformat": 4,
 "nbformat_minor": 5
}
